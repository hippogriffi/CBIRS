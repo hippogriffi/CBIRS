{
 "cells": [
  {
   "cell_type": "code",
   "execution_count": 166,
   "metadata": {},
   "outputs": [],
   "source": [
    "\n",
    "import numpy as np\n",
    "import cv2\n",
    "from matplotlib import pyplot as plt\n",
    "from pandas import DataFrame\n",
    "from scipy.spatial.distance import euclidean\n",
    "from sklearn.preprocessing import MinMaxScaler\n",
    "from sklearn.preprocessing import Normalizer\n",
    "import operator\n",
    "import torchvision.transforms as transforms\n",
    "import os\n",
    "from torchvision import datasets\n",
    "from torch.utils.data import Dataset, DataLoader\n",
    "\n",
    "from sklearn.cluster import KMeans\n",
    "from itertools import chain\n",
    "import mahotas as mt\n",
    "from sklearn.metrics import classification_report\n",
    "from sklearn.model_selection import RepeatedStratifiedKFold\n",
    "from sklearn.model_selection import cross_val_score\n"
   ]
  },
  {
   "cell_type": "code",
   "execution_count": 159,
   "metadata": {},
   "outputs": [],
   "source": [
    "from sklearn.cluster import MiniBatchKMeans\n",
    "from sklearn.naive_bayes import GaussianNB\n",
    "from sklearn.linear_model import LogisticRegression\n",
    "from sklearn.neighbors import KNeighborsClassifier\n",
    "from sklearn.svm import LinearSVC\n",
    "from sklearn.ensemble import RandomForestClassifier\n"
   ]
  },
  {
   "cell_type": "markdown",
   "metadata": {},
   "source": [
    "# Loading the Dataset"
   ]
  },
  {
   "cell_type": "code",
   "execution_count": 77,
   "metadata": {},
   "outputs": [
    {
     "name": "stdout",
     "output_type": "stream",
     "text": [
      "100\n"
     ]
    }
   ],
   "source": [
    "file_path = 'C:/Users/Joe/Desktop/UNI/Yr3/Dissertation/Datasets/101_ObjectCategories'\n",
    "folder_names = []\n",
    "folder_names = [f for f in sorted(os.listdir(file_path))]\n",
    "\n",
    "print(len(folder_names))  # 102 = 101 categories + background\n"
   ]
  },
  {
   "cell_type": "code",
   "execution_count": 78,
   "metadata": {},
   "outputs": [],
   "source": [
    "file_path = 'C:/Users/Joe/Desktop/UNI/Yr3/Dissertation/Datasets/101_ObjectCategories'\n",
    "folder_names = []\n",
    "folder_names = [f for f in sorted(os.listdir(file_path))]\n",
    "\n",
    "img_data = []\n",
    "img_classes = []\n",
    "\n",
    "num_categories = 10\n",
    "num_imgs = 30\n",
    "selected_categories = np.random.randint(0, 101, num_categories, dtype=\"I\")\n",
    "\n",
    "for a, cat in enumerate(selected_categories):\n",
    "    folder_path = file_path + '/' + folder_names[cat]\n",
    "    image_names = [a for a in sorted(\n",
    "        os.listdir(folder_path))]\n",
    "\n",
    "    for b, img_name in enumerate(image_names):\n",
    "        img_classes.append(folder_names[cat])\n",
    "        img_path = folder_path + '/' + img_name\n",
    "        img = cv2.imread(img_path)\n",
    "        img = cv2.resize(img, (100, 100))\n",
    "\n",
    "        if img is not None:\n",
    "            img_data.append(img)\n"
   ]
  },
  {
   "cell_type": "code",
   "execution_count": 79,
   "metadata": {},
   "outputs": [],
   "source": [
    "folder_path = r'C:\\Users\\Joe\\Desktop\\UNI\\Yr3\\Dissertation\\Datasets\\train_svm_DS'\n",
    "full_path_files = []\n",
    "root_list = []\n",
    "dir_list = []\n",
    "file_names = []\n",
    "img_labels = []\n",
    "\n",
    "\n",
    "for (root, dir, file) in os.walk(folder_path, topdown=True):\n",
    "    root_list.append(root)\n",
    "    dir_list.append(dir)\n",
    "    file_names.append(file)\n",
    "    \n",
    "#remove root dir\n",
    "root_list.pop(0)\n",
    "\n",
    "for dir in range(len(root_list)):\n",
    "    for f in file_names[dir+1]:\n",
    "        img_labels.append(dir_list[0][dir])\n",
    "        temp_name = os.path.join(root_list[dir], f)\n",
    "        full_path_files.append(temp_name)\n",
    "            \n",
    "\n",
    "#flatten file names list\n",
    "file_names = list(chain.from_iterable(file_names))\n"
   ]
  },
  {
   "cell_type": "code",
   "execution_count": 80,
   "metadata": {},
   "outputs": [],
   "source": [
    "svm_train_db = []\n",
    "for f in full_path_files:\n",
    "    img = cv2.imread(f)\n",
    "    img = cv2.resize(img, (100, 100))\n",
    "    if img is not None:\n",
    "        svm_train_db.append(img)\n"
   ]
  },
  {
   "cell_type": "code",
   "execution_count": 81,
   "metadata": {},
   "outputs": [],
   "source": [
    "def load_cifar(dir):\n",
    "    transform = transforms.Compose([\n",
    "        transforms.Resize(224),\n",
    "        transforms.CenterCrop(224),\n",
    "        transforms.ToTensor(),\n",
    "        transforms.Normalize(mean=[0.485, 0.456, 0.406], std=[\n",
    "                             0.229, 0.224, 0.225])\n",
    "    ])\n",
    "    \n",
    "    train = datasets.CIFAR10(root=dir,\n",
    "                              train=True,\n",
    "                              download=True,\n",
    "                              transform=transform)\n",
    "    \n",
    "    test = datasets.CIFAR10(root=dir,\n",
    "                             train=False,\n",
    "                             download=True,\n",
    "                             transform=transform)\n",
    "\n",
    "    return train, test\n",
    "    \n"
   ]
  },
  {
   "cell_type": "code",
   "execution_count": 82,
   "metadata": {},
   "outputs": [
    {
     "name": "stdout",
     "output_type": "stream",
     "text": [
      "Files already downloaded and verified\n",
      "Files already downloaded and verified\n"
     ]
    }
   ],
   "source": [
    "path = r'C:\\Users\\Joe\\Desktop\\UNI\\Yr3\\Dissertation\\Datasets\\cifar'\n",
    "trainset, testset = load_cifar(path)\n"
   ]
  },
  {
   "cell_type": "code",
   "execution_count": 83,
   "metadata": {},
   "outputs": [],
   "source": [
    "batch_size = 64\n",
    "train_dataloader = DataLoader(trainset, batch_size=batch_size, shuffle=True)\n",
    "test_dataloader = DataLoader(testset, batch_size=batch_size, shuffle=False)\n"
   ]
  },
  {
   "cell_type": "markdown",
   "metadata": {},
   "source": [
    "# Global Functions"
   ]
  },
  {
   "cell_type": "code",
   "execution_count": 84,
   "metadata": {},
   "outputs": [],
   "source": [
    "def normalise(distances, scale):\n",
    "    scaler = MinMaxScaler((0, scale))\n",
    "    keys = distances.keys()\n",
    "    distances = np.array(list(distances.values()))\n",
    "    distances = scaler.fit_transform(distances.reshape(-1, 1))\n",
    "    distances = dict(zip(keys, distances))\n",
    "    return distances"
   ]
  },
  {
   "cell_type": "markdown",
   "metadata": {},
   "source": [
    "# Histogram features"
   ]
  },
  {
   "cell_type": "code",
   "execution_count": 85,
   "metadata": {},
   "outputs": [],
   "source": [
    "def histogram_features(img):\n",
    "    features = [] \n",
    "    pp_img = cv2.cvtColor(img, cv2.COLOR_BGR2HSV)\n",
    "    channels = cv2.split(pp_img)\n",
    "    channel_names = ('h', 's', 'v')\n",
    "    for (channel, channel_name) in zip(channels, channel_names):\n",
    "        hist = cv2.calcHist([channel], [0], None, [256], [0, 256])\n",
    "        features.extend(hist.flatten())\n",
    "        return features"
   ]
  },
  {
   "cell_type": "code",
   "execution_count": 86,
   "metadata": {},
   "outputs": [],
   "source": [
    "def hist_features_database(data_imgs):\n",
    "    db_features = []\n",
    "    for img in data_imgs:\n",
    "        db_features.append(histogram_features(img))\n",
    "    db_hist_df = DataFrame(db_features)\n",
    "    return db_hist_df"
   ]
  },
  {
   "cell_type": "code",
   "execution_count": 87,
   "metadata": {},
   "outputs": [],
   "source": [
    "def calc_hist_distance(query_img, db_df):\n",
    "    feature_vectors = db_df.values.tolist()\n",
    "    distances = {}\n",
    "    for a in range(len(feature_vectors)):\n",
    "        query_features = histogram_features(query_img)\n",
    "        dist = euclidean(query_features, feature_vectors[a])\n",
    "        distances[a] = dist\n",
    "    return normalise(distances, 20)"
   ]
  },
  {
   "cell_type": "code",
   "execution_count": 88,
   "metadata": {},
   "outputs": [],
   "source": [
    "test_hist = hist_features_database(img_data)\n"
   ]
  },
  {
   "cell_type": "markdown",
   "metadata": {},
   "source": [
    "# Gabor Features"
   ]
  },
  {
   "cell_type": "code",
   "execution_count": 89,
   "metadata": {},
   "outputs": [],
   "source": [
    "def build_filters():\n",
    "    filters = []\n",
    "    kernal_size = 9 \n",
    "    for theta in np.arange(0, np.pi, np.pi / 8):\n",
    "        for deg in np.arange(0, 6*np.pi/4, np.pi / 4):\n",
    "            kernal = cv2.getGaborKernel((kernal_size, kernal_size), 1.0, theta, deg, 0.5, 0, ktype= cv2.CV_32F)\n",
    "            kernal /= 1.5 * kernal.sum()\n",
    "            filters.append(kernal)\n",
    "    return filters"
   ]
  },
  {
   "cell_type": "code",
   "execution_count": 90,
   "metadata": {},
   "outputs": [],
   "source": [
    "def convolve_filters(img, filters):\n",
    "    conv = np.zeros_like(img)\n",
    "    for kernal in filters:\n",
    "        filter_img = cv2.filter2D(img, cv2.CV_8UC3, kernal)\n",
    "        np.maximum(conv, filter_img, conv)\n",
    "    return conv"
   ]
  },
  {
   "cell_type": "code",
   "execution_count": 91,
   "metadata": {},
   "outputs": [],
   "source": [
    "def gabor_features(img):\n",
    "    features = []\n",
    "    img = cv2.cvtColor(img, cv2.COLOR_BGR2GRAY)\n",
    "    filters = np.asarray(build_filters())\n",
    "    \n",
    "    for a in range(20):\n",
    "        energy = 0\n",
    "        conv = convolve_filters(img, filters[a])\n",
    "        for b in range(img.shape[0]):\n",
    "            for c in range(img.shape[1]):\n",
    "                energy += conv[b][c] * conv[b][c]\n",
    "        features.append(energy)\n",
    "    for a in range(20):\n",
    "        mean = 0\n",
    "        conv = convolve_filters(img, filters[a])\n",
    "        for b in range(img.shape[0]):\n",
    "            for c in range(img.shape[1]):\n",
    "                mean += abs(conv[a][b])\n",
    "        features.append(mean)\n",
    "    features = np.array(features)\n",
    "    return features"
   ]
  },
  {
   "cell_type": "code",
   "execution_count": 92,
   "metadata": {},
   "outputs": [],
   "source": [
    "def gabor_features_database(data_imgs):\n",
    "    db_feat = []\n",
    "    for img in data_imgs:\n",
    "        db_feat.append(gabor_features(img))\n",
    "    db_gabor_df = DataFrame(db_feat)\n",
    "    return db_gabor_df"
   ]
  },
  {
   "cell_type": "code",
   "execution_count": 93,
   "metadata": {},
   "outputs": [],
   "source": [
    "def calc_gabor_distance(query_img, db_df):\n",
    "    distances = {}\n",
    "    query_feat = gabor_features(query_img)\n",
    "    feature_vector = db_df.values.tolist()\n",
    "    \n",
    "    for a in range(len(feature_vector)):\n",
    "        distances[a] = euclidean(query_feat, feature_vector[a])\n",
    "    distances = normalise(distances, 20)\n",
    "    return distances"
   ]
  },
  {
   "attachments": {},
   "cell_type": "markdown",
   "metadata": {},
   "source": [
    "# Haralick Feature Testing"
   ]
  },
  {
   "cell_type": "code",
   "execution_count": 94,
   "metadata": {},
   "outputs": [],
   "source": [
    "def haralick_features(img):\n",
    "    img = cv2.cvtColor(img, cv2.COLOR_BGR2GRAY)\n",
    "    texture = mt.features.haralick(img)\n",
    "    features = texture.mean(axis=0)\n",
    "    return features"
   ]
  },
  {
   "cell_type": "code",
   "execution_count": 95,
   "metadata": {},
   "outputs": [],
   "source": [
    "def haralick_features_database(img_db):\n",
    "    features = []\n",
    "    for img in img_db:\n",
    "        feat = haralick_features(img)\n",
    "        features.append(feat)\n",
    "    haralick_df = DataFrame(features)\n",
    "    return haralick_df\n"
   ]
  },
  {
   "cell_type": "code",
   "execution_count": 96,
   "metadata": {},
   "outputs": [],
   "source": [
    "def calc_haralick_distance(query_img, db_df):\n",
    "    distances = {}\n",
    "    query_feat = haralick_features(query_img)\n",
    "    haralick_fv = db_df.values.tolist()\n",
    "    for a in range(len(haralick_fv)):\n",
    "        img_feats = haralick_fv[a]\n",
    "        dist = euclidean(query_feat, img_feats)\n",
    "        distances[a] = dist\n",
    "    distances = normalise(distances, 20)\n",
    "    return distances"
   ]
  },
  {
   "cell_type": "markdown",
   "metadata": {},
   "source": [
    "# Distance Metric Calculation"
   ]
  },
  {
   "cell_type": "code",
   "execution_count": 97,
   "metadata": {},
   "outputs": [],
   "source": [
    "def calc_distances_total(hist_dist, gabor_dist):\n",
    "    total_dist = []\n",
    "    hist_weight = 0.8\n",
    "    gabor_weight = 0.2\n",
    "    \n",
    "    for a in hist_dist:\n",
    "        hist_dist[a] *= hist_weight\n",
    "        gabor_dist[a] *= gabor_weight\n",
    "        total_dist.append(hist_dist[a] + gabor_dist[a])  \n",
    "    return sorted(dict(zip(np.arange(0, len(img_data)), (np.array(total_dist)))).items(), key=operator.itemgetter(1))\n"
   ]
  },
  {
   "cell_type": "code",
   "execution_count": 98,
   "metadata": {},
   "outputs": [
    {
     "name": "stderr",
     "output_type": "stream",
     "text": [
      "C:\\Users\\Joe\\AppData\\Local\\Temp\\ipykernel_16660\\1077438191.py:11: RuntimeWarning: overflow encountered in ubyte_scalars\n",
      "  energy += conv[b][c] * conv[b][c]\n"
     ]
    }
   ],
   "source": [
    "query_img = img_data[0]\n",
    "\n",
    "hist_dist = calc_hist_distance(query_img, hist_features_database(img_data))\n",
    "gabor_dist = calc_gabor_distance(query_img, gabor_features_database(img_data))\n",
    "\n",
    "final_dist = calc_distances_total(hist_dist, gabor_dist)"
   ]
  },
  {
   "attachments": {},
   "cell_type": "markdown",
   "metadata": {},
   "source": [
    "# Model 2 Testing"
   ]
  },
  {
   "attachments": {},
   "cell_type": "markdown",
   "metadata": {},
   "source": [
    "# HOG"
   ]
  },
  {
   "cell_type": "code",
   "execution_count": 99,
   "metadata": {},
   "outputs": [],
   "source": [
    "import skimage\n",
    "from skimage.feature import hog"
   ]
  },
  {
   "cell_type": "code",
   "execution_count": 100,
   "metadata": {},
   "outputs": [],
   "source": [
    "def HOG_features(img, bin_n, norm):\n",
    "    img = cv2.cvtColor(img, cv2.COLOR_RGB2GRAY)\n",
    "    fd = hog(img, orientations=8, pixels_per_cell=(2,2), cells_per_block=(1,1))\n",
    "    b = np.linspace(0, np.max(fd), bin_n+1)\n",
    "    histogram, _ = np.histogram(fd, bins=b)\n",
    "    \n",
    "    if norm:\n",
    "        histogram = (histogram - histogram.mean()) / (histogram.std())\n",
    "    \n",
    "    return histogram"
   ]
  },
  {
   "cell_type": "code",
   "execution_count": 101,
   "metadata": {},
   "outputs": [],
   "source": [
    "def HOG_hist(img, type_h, bin_n, slice_n, norm):\n",
    "    \n",
    "    if type_h == 'global':\n",
    "        histogram = HOG_features(img, bin_n, norm)\n",
    "        \n",
    "    elif type_h == 'reigon':\n",
    "        histogram = np.zeros((slice_n, slice_n, bin_n))\n",
    "        slice_h = np.around(np.linspace(0, img.shape[0], slice_n +1)).astype(int)\n",
    "        slice_w = np.around(np.linspace(0, img.shape[1], slice_n + 1)).astype(int)\n",
    "        \n",
    "        for h in range(len(slice_h)-1):\n",
    "            for w in range(len(slice_w)-1):\n",
    "                #create reigons for image\n",
    "                reigon = img[slice_h[h]:slice_h[h+1], slice_w[w]: slice_w[w+1]]\n",
    "                histogram[h][w] = HOG_features(reigon, bin_n, norm)\n",
    "            \n",
    "    return histogram.flatten()\n"
   ]
  },
  {
   "cell_type": "code",
   "execution_count": 102,
   "metadata": {},
   "outputs": [],
   "source": [
    "def HOG_db_feats(img_db, type_h, bin_n, slice_n, norm):\n",
    "    db_features = []\n",
    "    for img in img_db:\n",
    "        db_features.append(HOG_hist(img, type_h, bin_n, slice_n, norm))\n",
    "    db_df = DataFrame(db_features)\n",
    "    return db_df"
   ]
  },
  {
   "attachments": {},
   "cell_type": "markdown",
   "metadata": {},
   "source": [
    "# Colour Features 2.0"
   ]
  },
  {
   "cell_type": "code",
   "execution_count": 103,
   "metadata": {},
   "outputs": [],
   "source": [
    "import itertools\n",
    "import imageio.v3 as iio\n"
   ]
  },
  {
   "cell_type": "code",
   "execution_count": 104,
   "metadata": {},
   "outputs": [],
   "source": [
    "def colour_features2(img):\n",
    "    feats = []\n",
    "    img = cv2.cvtColor(img, cv2.COLOR_BGR2HSV)\n",
    "    channels = cv2.split(img)\n",
    "    channel_n = ('h', 's', 'v')\n",
    "    for (channel, channel_n) in zip(channels, channel_n):\n",
    "        hist = cv2.calcHist([channel], [0], None, [256], [0, 256])\n",
    "        hist = cv2.normalize(hist, hist).flatten()\n",
    "        feats.extend(hist)\n",
    "    return feats\n",
    "    "
   ]
  },
  {
   "cell_type": "code",
   "execution_count": 105,
   "metadata": {},
   "outputs": [],
   "source": [
    "def colour_hist(img, type_h, bin_n, slice_n, norm):\n",
    "    bins = np.linspace(0, 256, bin_n+1, endpoint=True)\n",
    "    if type_h == 'global':\n",
    "        histogram = colour_features2(img)\n",
    "        \n",
    "    elif type_h == 'reigon':\n",
    "        histogram = np.zeros((slice_n, slice_n, 256 * img.shape[2]))\n",
    "        slice_h = np.around(np.linspace(\n",
    "            0, img.shape[0], slice_n + 1)).astype(int)\n",
    "        slice_w = np.around(np.linspace(\n",
    "            0, img.shape[1], slice_n + 1)).astype(int)\n",
    "        \n",
    "        for h in range(len(slice_h)-1):\n",
    "            for w in range(len(slice_w)-1):\n",
    "                #create reigons for image\n",
    "                reigon = img[slice_h[h]:slice_h[h+1], slice_w[w]: slice_w[w+1]]\n",
    "                histogram[h][w] = colour_features2(reigon)\n",
    "                \n",
    "        if norm:\n",
    "            histogram = (histogram - histogram.mean()) / (histogram.std())\n",
    "        \n",
    "    return np.array(histogram)\n"
   ]
  },
  {
   "cell_type": "code",
   "execution_count": 106,
   "metadata": {},
   "outputs": [],
   "source": [
    "def colour_db_feats(img_db, type_h, bin_n, slice_n, norm):\n",
    "    db_features = []\n",
    "    for img in img_db:\n",
    "        db_features.append(colour_hist(img, type_h, bin_n, slice_n, norm))\n",
    "    db_hist_df = DataFrame(db_features)\n",
    "    return db_hist_df"
   ]
  },
  {
   "attachments": {},
   "cell_type": "markdown",
   "metadata": {},
   "source": [
    "# Gabor Feats 2.0"
   ]
  },
  {
   "cell_type": "code",
   "execution_count": 107,
   "metadata": {},
   "outputs": [],
   "source": [
    "# gab imports\n",
    "from skimage.filters import gabor_kernel\n",
    "from scipy import ndimage as ndi\n",
    "import math"
   ]
  },
  {
   "cell_type": "code",
   "execution_count": 108,
   "metadata": {},
   "outputs": [],
   "source": [
    "# create kernals at different orientations\n",
    "def build_gabor_kernals(theta, freq, sigma):\n",
    "    kern_l = []\n",
    "    for t in range(theta):\n",
    "        t = t / float(theta) * np.pi\n",
    "        for f in freq:\n",
    "                for s in sigma:\n",
    "                    kern = gabor_kernel(f, theta = t, sigma_x=s, sigma_y=s)\n",
    "                    kern_l.append(kern)\n",
    "    return kern_l"
   ]
  },
  {
   "cell_type": "code",
   "execution_count": 109,
   "metadata": {},
   "outputs": [],
   "source": [
    "def convolve_filters2(img, kern):\n",
    "    \n",
    "    img = cv2.normalize(img, None, alpha=0, beta=1, norm_type=cv2.NORM_MINMAX, dtype=cv2.CV_32F)\n",
    "    conv = np.sqrt(ndi.convolve(img, np.real(kern), mode='wrap')**2 +\n",
    "        ndi.convolve(img, np.imag(kern), mode = 'wrap')**2)\n",
    "    \n",
    "    features = np.zeros(2, dtype = np.double)\n",
    "    features[0] = conv.mean()\n",
    "    features[1] = conv.var()\n",
    "    return features"
   ]
  },
  {
   "cell_type": "code",
   "execution_count": 110,
   "metadata": {},
   "outputs": [],
   "source": [
    "def gabor_features2(img, g_kernals, norm):\n",
    "    g_img = cv2.cvtColor(img, cv2.COLOR_BGR2GRAY)\n",
    "    results = []\n",
    "    \n",
    "    for kern in g_kernals:\n",
    "        results.append(convolve_filters2(g_img, kern))\n",
    "    \n",
    "    histogram = np.array(results)\n",
    "    if norm:\n",
    "        histogram = (histogram - histogram.mean()) / (histogram.std())\n",
    "        \n",
    "    return histogram.T.flatten()"
   ]
  },
  {
   "cell_type": "code",
   "execution_count": 111,
   "metadata": {},
   "outputs": [],
   "source": [
    "def gabor(img, g_kernals, type_h, slice_n, norm):\n",
    "    \n",
    "    if type_h == 'global':\n",
    "        histogram = gabor_features2(img, g_kernals, norm)\n",
    "        \n",
    "    elif type_h == 'reigon':\n",
    "        histogram = np.zeros((slice_n, slice_n, len(g_kernals)*2))\n",
    "        slice_h = np.around(np.linspace(\n",
    "            0, img.shape[0], slice_n + 1)).astype(int)\n",
    "        slice_w = np.around(np.linspace(\n",
    "            0, img.shape[1], slice_n + 1)).astype(int)\n",
    "        \n",
    "        for h in range(len(slice_h)-1):\n",
    "            for w in range(len(slice_w)-1):\n",
    "                #create reigons for image\n",
    "                reigon = img[slice_h[h]:slice_h[h+1], slice_w[w]: slice_w[w+1]]\n",
    "                histogram[h][w] = gabor_features2(reigon, g_kernals, norm)\n",
    "            \n",
    "    return histogram.flatten()"
   ]
  },
  {
   "cell_type": "code",
   "execution_count": 112,
   "metadata": {},
   "outputs": [],
   "source": [
    "def gabor_db_feats(img_db, g_kernals, type_h, slice_n, norm):\n",
    "    db_features = []\n",
    "    for img in img_db:\n",
    "        db_features.append(gabor(img, g_kernals, type_h, slice_n, norm))\n",
    "    db_df = DataFrame(db_features)\n",
    "    return db_df"
   ]
  },
  {
   "attachments": {},
   "cell_type": "markdown",
   "metadata": {},
   "source": [
    "# DAISY features "
   ]
  },
  {
   "cell_type": "code",
   "execution_count": 113,
   "metadata": {},
   "outputs": [],
   "source": [
    "# import====\n",
    "from skimage.feature import daisy"
   ]
  },
  {
   "cell_type": "code",
   "execution_count": 114,
   "metadata": {},
   "outputs": [],
   "source": [
    "def daisy_features(img, step, radius, ring_n, hist_n, oriant_n, norm = True):\n",
    "    g_img = cv2.cvtColor(img, cv2.COLOR_RGB2GRAY)\n",
    "    R = (ring_n * hist_n + 1) * oriant_n\n",
    "    desc = daisy(g_img, step = step, radius = radius, rings = ring_n,\n",
    "                 histograms = hist_n, orientations = oriant_n)\n",
    "    desc.reshape(-1, R)\n",
    "    histogram = np.mean(desc, axis = 0)\n",
    "    \n",
    "    if norm:\n",
    "        histogram = (histogram - histogram.mean()) / (histogram.std())\n",
    "    return histogram\n"
   ]
  },
  {
   "cell_type": "code",
   "execution_count": 115,
   "metadata": {},
   "outputs": [],
   "source": [
    "def daisy(img, type_h, slice_n, step, radius, ring_n, hist_n, oriant_n, norm):\n",
    "    R = (ring_n * hist_n + 1) * oriant_n\n",
    "    \n",
    "    if type_h == 'global':\n",
    "        histogram = daisy_features(img, step, radius, ring_n,\n",
    "                                   hist_n, oriant_n, norm)\n",
    "    elif type_h == 'reigon':\n",
    "        histogram = np.zeros((slice_n, slice_n, R))\n",
    "        slice_h = np.around(np.linspace(\n",
    "            0, img.shape[0], slice_n + 1)).astype(int)\n",
    "        slice_w = np.around(np.linspace(\n",
    "            0, img.shape[1], slice_n + 1)).astype(int)\n",
    "        \n",
    "        for h in range(len(slice_h)-1):\n",
    "            for w in range(len(slice_w)-1):\n",
    "                #create reigons for image\n",
    "                img_r = img[slice_h[h]:slice_h[h+1], slice_w[w]: slice_w[w+1]]\n",
    "                histogram[h][w] = daisy_features(\n",
    "                    img_r, step, radius, ring_n, hist_n, oriant_n, norm)\n",
    "    \n",
    "    if norm:\n",
    "        histogram /= np.sum(histogram)\n",
    "        \n",
    "    return histogram\n"
   ]
  },
  {
   "cell_type": "code",
   "execution_count": 116,
   "metadata": {},
   "outputs": [],
   "source": [
    "#test_daisy = daisy_features(img, 10, 30, 2, 6, 8)"
   ]
  },
  {
   "cell_type": "code",
   "execution_count": 117,
   "metadata": {},
   "outputs": [],
   "source": [
    "#plt.imshow(daisy_img)\n"
   ]
  },
  {
   "attachments": {},
   "cell_type": "markdown",
   "metadata": {},
   "source": [
    "# Haralick 2 (similar to M1 implementation)"
   ]
  },
  {
   "cell_type": "code",
   "execution_count": 118,
   "metadata": {},
   "outputs": [],
   "source": [
    "def haralick_features(img, norm):\n",
    "    img = cv2.cvtColor(img, cv2.COLOR_BGR2GRAY)\n",
    "    histogram = mt.features.haralick(img).mean(axis=0)\n",
    "    if norm:\n",
    "        histogram = np.array(histogram) / np.sum(histogram)\n",
    "        \n",
    "    return histogram\n"
   ]
  },
  {
   "cell_type": "code",
   "execution_count": 119,
   "metadata": {},
   "outputs": [],
   "source": [
    "def haralick(img, type_h, slice_n, norm):\n",
    "    if type_h == 'global':\n",
    "        histogram = haralick_features(img, norm)\n",
    "    \n",
    "    elif type_h == 'reigon':\n",
    "        histogram = np.zeros((slice_n, slice_n, 13))\n",
    "        slice_h = np.around(np.linspace(\n",
    "            0, img.shape[0], slice_n + 1)).astype(int)\n",
    "        slice_w = np.around(np.linspace(\n",
    "            0, img.shape[1], slice_n + 1)).astype(int)\n",
    "        \n",
    "        for h in range(len(slice_h)-1):\n",
    "            for w in range(len(slice_w)-1):\n",
    "                #create reigons for image\n",
    "                img_r = img[slice_h[h]:slice_h[h+1], slice_w[w]: slice_w[w+1]]\n",
    "                histogram[h][w] = haralick_features(img_r, norm)\n",
    "        \n",
    "        if norm:\n",
    "            histogram = (histogram - histogram.mean()) / (histogram.std()) \n",
    "\n",
    "    return histogram.flatten()\n"
   ]
  },
  {
   "cell_type": "code",
   "execution_count": 120,
   "metadata": {},
   "outputs": [],
   "source": [
    "def haralick_db_feats(img_db, type_h, slice_n, norm):\n",
    "    db_features = []\n",
    "    for img in img_db:\n",
    "        db_features.append(haralick(img, type_h, slice_n, norm))\n",
    "    db_df = DataFrame(db_features)\n",
    "    return db_df"
   ]
  },
  {
   "attachments": {},
   "cell_type": "markdown",
   "metadata": {},
   "source": [
    "# M2 Feats"
   ]
  },
  {
   "cell_type": "code",
   "execution_count": 121,
   "metadata": {},
   "outputs": [],
   "source": [
    "from sklearn import linear_model\n",
    "from sklearn.preprocessing import StandardScaler\n"
   ]
  },
  {
   "cell_type": "code",
   "execution_count": 122,
   "metadata": {},
   "outputs": [],
   "source": [
    "test_colour_db = hist_features_database(img_data)\n",
    "\n"
   ]
  },
  {
   "cell_type": "code",
   "execution_count": 123,
   "metadata": {},
   "outputs": [],
   "source": [
    "test_colour_db = np.array(test_colour_db)\n"
   ]
  },
  {
   "cell_type": "code",
   "execution_count": 124,
   "metadata": {},
   "outputs": [],
   "source": [
    "ds = img_data\n",
    "type_h = 'reigon'\n",
    "norm = False\n",
    "slice_n = 2\n",
    "\n",
    "scaler = MinMaxScaler()\n",
    "\n",
    "#colour features\n",
    "colour_f = colour_db_feats(ds, 'global', 12, 3, norm)\n",
    "colour_f = scaler.fit_transform(colour_f)\n",
    "\n",
    "#texture features\n",
    "gabor_kernals = build_gabor_kernals(4, (0.1, 0.5, 0.8), (1, 3))\n",
    "gab_f = gabor_db_feats(ds, gabor_kernals, type_h, slice_n, norm)\n",
    "gab_f = scaler.fit_transform(gab_f)\n",
    "\n",
    "\n",
    "hara_f = haralick_db_feats(ds, type_h, slice_n, norm)\n",
    "hara_f = scaler.fit_transform(hara_f)\n",
    "\n",
    "\n",
    "#shape features\n",
    "hog_b = 10 # number of bins for each img\n",
    "HOG_f = HOG_db_feats(ds, type_h, hog_b, slice_n, norm)\n",
    "HOG_f = scaler.fit_transform(HOG_f)"
   ]
  },
  {
   "cell_type": "code",
   "execution_count": 125,
   "metadata": {},
   "outputs": [
    {
     "name": "stdout",
     "output_type": "stream",
     "text": [
      "Colour F Shape: (608, 768)\n",
      "Gab F Shape: (608, 192)\n",
      "Hara F Shape: (608, 52)\n",
      "HOG F Shape: (608, 40)\n"
     ]
    }
   ],
   "source": [
    "print(\"Colour F Shape: {}\".format(colour_f.shape))\n",
    "print(\"Gab F Shape: {}\".format(gab_f.shape))\n",
    "print(\"Hara F Shape: {}\".format(hara_f.shape))\n",
    "print(\"HOG F Shape: {}\".format(HOG_f.shape))"
   ]
  },
  {
   "cell_type": "code",
   "execution_count": 126,
   "metadata": {},
   "outputs": [],
   "source": [
    "from sklearn.metrics import accuracy_score\n",
    "from sklearn.model_selection import train_test_split\n",
    "from sklearn.svm import LinearSVC\n",
    "from sklearn.preprocessing import StandardScaler\n"
   ]
  },
  {
   "attachments": {},
   "cell_type": "markdown",
   "metadata": {},
   "source": [
    "# Feature Fusion"
   ]
  },
  {
   "cell_type": "code",
   "execution_count": 145,
   "metadata": {},
   "outputs": [],
   "source": [
    "# Colour + HOG\n",
    "hog_clr = np.concatenate((colour_f, HOG_f), axis=1)\n",
    "hog_clr_train, hog_clr_test, _, __ = train_test_split(\n",
    "    hog_clr, img_classes, test_size=0.3, random_state=42)\n"
   ]
  },
  {
   "cell_type": "code",
   "execution_count": 146,
   "metadata": {},
   "outputs": [],
   "source": [
    "# Colour + Gab\n",
    "gab_clr = np.concatenate((colour_f, gab_f), axis=1)\n",
    "gab_clr_train, gab_clr_test, _, __ = train_test_split(\n",
    "    gab_clr, img_classes, test_size=0.3, random_state=42)\n"
   ]
  },
  {
   "cell_type": "code",
   "execution_count": 147,
   "metadata": {},
   "outputs": [],
   "source": [
    "# Gab + HOG\n",
    "gab_hog = np.concatenate((gab_f, HOG_f), axis=1)\n",
    "gab_hog_train, gab_hog_test, _, __ = train_test_split(\n",
    "    gab_hog, img_classes, test_size=0.3, random_state=42)\n"
   ]
  },
  {
   "cell_type": "code",
   "execution_count": 148,
   "metadata": {},
   "outputs": [],
   "source": [
    "# Colour + Gab + Har + HOG\n",
    "feat_vector = np.concatenate((colour_f, gab_f, hara_f, HOG_f), axis=1)\n",
    "X_train, X_test, Y_train, Y_test = train_test_split(\n",
    "    feat_vector, img_classes, test_size=0.3, random_state=42)\n"
   ]
  },
  {
   "cell_type": "code",
   "execution_count": 156,
   "metadata": {},
   "outputs": [
    {
     "data": {
      "text/plain": [
       "<matplotlib.collections.PathCollection at 0x1f9c461b250>"
      ]
     },
     "execution_count": 156,
     "metadata": {},
     "output_type": "execute_result"
    },
    {
     "data": {
      "image/png": "[encoded data removed]",
      "text/plain": [
       "<Figure size 640x480 with 1 Axes>"
      ]
     },
     "metadata": {},
     "output_type": "display_data"
    }
   ],
   "source": [
    "plt.scatter(np.arange(0, X_train.shape[1]), X_train[21])\n"
   ]
  },
  {
   "attachments": {},
   "cell_type": "markdown",
   "metadata": {},
   "source": [
    "# Image Classification Testing"
   ]
  },
  {
   "cell_type": "code",
   "execution_count": 162,
   "metadata": {},
   "outputs": [],
   "source": [
    "target_names = set(img_classes)"
   ]
  },
  {
   "cell_type": "code",
   "execution_count": 167,
   "metadata": {},
   "outputs": [],
   "source": [
    "# evaluate model\n",
    "def evaluate_model(model, train_x, train_y):\n",
    "  # K fold resampling\n",
    "\tcv = RepeatedStratifiedKFold(n_splits=10, n_repeats=3, random_state=1)\n",
    "\tscores = cross_val_score(model, train_x, train_y,\n",
    "\t                         scoring='accuracy', cv=cv, n_jobs=-1)\n",
    "\treturn scores\n"
   ]
  },
  {
   "cell_type": "code",
   "execution_count": 168,
   "metadata": {},
   "outputs": [],
   "source": [
    "def get_models():\n",
    "    models = dict()\n",
    "    models['Naive Bayes'] = GaussianNB()\n",
    "    models['Logistic Regression'] = LogisticRegression()\n",
    "    models['K-Nearest Neighbors'] = KNeighborsClassifier()\n",
    "    models['Linear Support Vector Machine'] = LinearSVC()\n",
    "    return models\n",
    "\n",
    "models = get_models()\n",
    "results, modelName = list(), list()\n",
    "for name, model in models.items():\n",
    "  scores = evaluate_model(model, X_train, Y_train)\n",
    "  results.append(scores)\n",
    "  modelName.append(name)\n"
   ]
  },
  {
   "cell_type": "code",
   "execution_count": 173,
   "metadata": {},
   "outputs": [
    {
     "data": {
      "image/png": "[encoded data removed]",
      "text/plain": [
       "<Figure size 1200x800 with 4 Axes>"
      ]
     },
     "metadata": {},
     "output_type": "display_data"
    }
   ],
   "source": [
    "# create boxplots for comaprision\n",
    "#set x ticks\n",
    "xticks = np.arange(0.0, 1.05, 0.05, dtype=float)\n",
    "\n",
    "#create markers\n",
    "red_circle = dict(markerfacecolor='red', marker='.', markersize=7)\n",
    "mean_shape = dict(markerfacecolor='blue', marker='D', markeredgecolor='green')\n",
    "\n",
    "#create subplots\n",
    "fig, ax = plt.subplots(4, 1, figsize=(12, 8))\n",
    "fig.subplots_adjust(hspace=0.50, wspace=0.01, left=0, right=1, bottom=0, top=1)\n",
    "\n",
    "#plot boxplot for each model\n",
    "for a in range(len(ax)):\n",
    "    ax[a].boxplot(results[a], boxprops=dict(color='red'), vert=False, flierprops=red_circle,\n",
    "                  showmeans=True, meanprops=mean_shape, notch=True, widths=0.4)\n",
    "    ax[a].set_xticks(xticks)\n",
    "    ax[a].xaxis.grid(True)\n",
    "    ax[a].get_yaxis().set_visible(False)\n",
    "    ax[a].set_title(f\"{modelName[a]}\", fontsize=12,\n",
    "                    y=0.99, fontweight='bold')\n",
    "    ax[a].set_xlabel('Accuracy Score (%)')\n"
   ]
  },
  {
   "cell_type": "code",
   "execution_count": 160,
   "metadata": {},
   "outputs": [],
   "source": [
    "clf = GaussianNB()\n",
    "\n",
    "clf.fit(hog_clr_train, Y_train)\n",
    "\n",
    "Y_train_pred = clf.predict(hog_clr_train)\n",
    "Y_test_pred = clf.predict(hog_clr_test)"
   ]
  },
  {
   "cell_type": "code",
   "execution_count": 150,
   "metadata": {},
   "outputs": [
    {
     "data": {
      "text/html": [
       "<style>#sk-container-id-6 {color: black;background-color: white;}#sk-container-id-6 pre{padding: 0;}#sk-container-id-6 div.sk-toggleable {background-color: white;}#sk-container-id-6 label.sk-toggleable__label {cursor: pointer;display: block;width: 100%;margin-bottom: 0;padding: 0.3em;box-sizing: border-box;text-align: center;}#sk-container-id-6 label.sk-toggleable__label-arrow:before {content: \"▸\";float: left;margin-right: 0.25em;color: #696969;}#sk-container-id-6 label.sk-toggleable__label-arrow:hover:before {color: black;}#sk-container-id-6 div.sk-estimator:hover label.sk-toggleable__label-arrow:before {color: black;}#sk-container-id-6 div.sk-toggleable__content {max-height: 0;max-width: 0;overflow: hidden;text-align: left;background-color: #f0f8ff;}#sk-container-id-6 div.sk-toggleable__content pre {margin: 0.2em;color: black;border-radius: 0.25em;background-color: #f0f8ff;}#sk-container-id-6 input.sk-toggleable__control:checked~div.sk-toggleable__content {max-height: 200px;max-width: 100%;overflow: auto;}#sk-container-id-6 input.sk-toggleable__control:checked~label.sk-toggleable__label-arrow:before {content: \"▾\";}#sk-container-id-6 div.sk-estimator input.sk-toggleable__control:checked~label.sk-toggleable__label {background-color: #d4ebff;}#sk-container-id-6 div.sk-label input.sk-toggleable__control:checked~label.sk-toggleable__label {background-color: #d4ebff;}#sk-container-id-6 input.sk-hidden--visually {border: 0;clip: rect(1px 1px 1px 1px);clip: rect(1px, 1px, 1px, 1px);height: 1px;margin: -1px;overflow: hidden;padding: 0;position: absolute;width: 1px;}#sk-container-id-6 div.sk-estimator {font-family: monospace;background-color: #f0f8ff;border: 1px dotted black;border-radius: 0.25em;box-sizing: border-box;margin-bottom: 0.5em;}#sk-container-id-6 div.sk-estimator:hover {background-color: #d4ebff;}#sk-container-id-6 div.sk-parallel-item::after {content: \"\";width: 100%;border-bottom: 1px solid gray;flex-grow: 1;}#sk-container-id-6 div.sk-label:hover label.sk-toggleable__label {background-color: #d4ebff;}#sk-container-id-6 div.sk-serial::before {content: \"\";position: absolute;border-left: 1px solid gray;box-sizing: border-box;top: 0;bottom: 0;left: 50%;z-index: 0;}#sk-container-id-6 div.sk-serial {display: flex;flex-direction: column;align-items: center;background-color: white;padding-right: 0.2em;padding-left: 0.2em;position: relative;}#sk-container-id-6 div.sk-item {position: relative;z-index: 1;}#sk-container-id-6 div.sk-parallel {display: flex;align-items: stretch;justify-content: center;background-color: white;position: relative;}#sk-container-id-6 div.sk-item::before, #sk-container-id-6 div.sk-parallel-item::before {content: \"\";position: absolute;border-left: 1px solid gray;box-sizing: border-box;top: 0;bottom: 0;left: 50%;z-index: -1;}#sk-container-id-6 div.sk-parallel-item {display: flex;flex-direction: column;z-index: 1;position: relative;background-color: white;}#sk-container-id-6 div.sk-parallel-item:first-child::after {align-self: flex-end;width: 50%;}#sk-container-id-6 div.sk-parallel-item:last-child::after {align-self: flex-start;width: 50%;}#sk-container-id-6 div.sk-parallel-item:only-child::after {width: 0;}#sk-container-id-6 div.sk-dashed-wrapped {border: 1px dashed gray;margin: 0 0.4em 0.5em 0.4em;box-sizing: border-box;padding-bottom: 0.4em;background-color: white;}#sk-container-id-6 div.sk-label label {font-family: monospace;font-weight: bold;display: inline-block;line-height: 1.2em;}#sk-container-id-6 div.sk-label-container {text-align: center;}#sk-container-id-6 div.sk-container {/* jupyter's `normalize.less` sets `[hidden] { display: none; }` but bootstrap.min.css set `[hidden] { display: none !important; }` so we also need the `!important` here to be able to override the default hidden behavior on the sphinx rendered scikit-learn.org. See: https://github.com/scikit-learn/scikit-learn/issues/21755 */display: inline-block !important;position: relative;}#sk-container-id-6 div.sk-text-repr-fallback {display: none;}</style><div id=\"sk-container-id-6\" class=\"sk-top-container\"><div class=\"sk-text-repr-fallback\"><pre>LinearSVC(max_iter=3000, random_state=0, tol=1e-05)</pre><b>In a Jupyter environment, please rerun this cell to show the HTML representation or trust the notebook. <br />On GitHub, the HTML representation is unable to render, please try loading this page with nbviewer.org.</b></div><div class=\"sk-container\" hidden><div class=\"sk-item\"><div class=\"sk-estimator sk-toggleable\"><input class=\"sk-toggleable__control sk-hidden--visually\" id=\"sk-estimator-id-6\" type=\"checkbox\" checked><label for=\"sk-estimator-id-6\" class=\"sk-toggleable__label sk-toggleable__label-arrow\">LinearSVC</label><div class=\"sk-toggleable__content\"><pre>LinearSVC(max_iter=3000, random_state=0, tol=1e-05)</pre></div></div></div></div></div>"
      ],
      "text/plain": [
       "LinearSVC(max_iter=3000, random_state=0, tol=1e-05)"
      ]
     },
     "execution_count": 150,
     "metadata": {},
     "output_type": "execute_result"
    }
   ],
   "source": [
    "clf = LinearSVC(random_state=0, tol=1e-5, max_iter=3000)\n",
    "clf.fit(X_train, Y_train)"
   ]
  },
  {
   "attachments": {},
   "cell_type": "markdown",
   "metadata": {},
   "source": [
    "# Test"
   ]
  },
  {
   "cell_type": "code",
   "execution_count": 151,
   "metadata": {},
   "outputs": [],
   "source": [
    "from sklearn.metrics import plot_confusion_matrix"
   ]
  },
  {
   "cell_type": "code",
   "execution_count": 152,
   "metadata": {},
   "outputs": [
    {
     "name": "stderr",
     "output_type": "stream",
     "text": [
      "c:\\Python310\\lib\\site-packages\\sklearn\\utils\\deprecation.py:87: FutureWarning: Function plot_confusion_matrix is deprecated; Function `plot_confusion_matrix` is deprecated in 1.0 and will be removed in 1.2. Use one of the class methods: ConfusionMatrixDisplay.from_predictions or ConfusionMatrixDisplay.from_estimator.\n",
      "  warnings.warn(msg, category=FutureWarning)\n"
     ]
    },
    {
     "data": {
      "image/png": "[encoded data removed]",
      "text/plain": [
       "<Figure size 640x480 with 2 Axes>"
      ]
     },
     "metadata": {},
     "output_type": "display_data"
    }
   ],
   "source": [
    "# Generate confusion matrix\n",
    "matrix = plot_confusion_matrix(clf, X_test, Y_test,\n",
    "                               cmap=plt.cm.Blues,\n",
    "                               normalize='true')\n",
    "plt.title('M2 w/ SVM')\n",
    "plt.show(matrix)\n",
    "plt.show()\n"
   ]
  }
 ],
 "metadata": {
  "kernelspec": {
   "display_name": "Python 3.10.1 64-bit",
   "language": "python",
   "name": "python3"
  },
  "language_info": {
   "codemirror_mode": {
    "name": "ipython",
    "version": 3
   },
   "file_extension": ".py",
   "mimetype": "text/x-python",
   "name": "python",
   "nbconvert_exporter": "python",
   "pygments_lexer": "ipython3",
   "version": "3.10.1"
  },
  "orig_nbformat": 4,
  "vscode": {
   "interpreter": {
    "hash": "369f2c481f4da34e4445cda3fffd2e751bd1c4d706f27375911949ba6bb62e1c"
   }
  }
 },
 "nbformat": 4,
 "nbformat_minor": 2
}
